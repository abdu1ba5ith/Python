{
 "cells": [
  {
   "cell_type": "code",
   "execution_count": null,
   "metadata": {},
   "outputs": [],
   "source": [
    "# Introduction to For Loop\n",
    "    "
   ]
  },
  {
   "cell_type": "code",
   "execution_count": 3,
   "metadata": {},
   "outputs": [],
   "source": [
    "students = ['vennila','yusuf','karthik','john','kumar','abishek','latha','madhavi']"
   ]
  },
  {
   "cell_type": "code",
   "execution_count": 4,
   "metadata": {},
   "outputs": [
    {
     "name": "stdout",
     "output_type": "stream",
     "text": [
      "['vennila', 'yusuf', 'karthik', 'john', 'kumar', 'abishek', 'latha', 'madhavi']\n"
     ]
    }
   ],
   "source": [
    "print(students)"
   ]
  },
  {
   "cell_type": "code",
   "execution_count": 5,
   "metadata": {},
   "outputs": [
    {
     "data": {
      "text/plain": [
       "list"
      ]
     },
     "execution_count": 5,
     "metadata": {},
     "output_type": "execute_result"
    }
   ],
   "source": [
    "type(students)"
   ]
  },
  {
   "cell_type": "code",
   "execution_count": null,
   "metadata": {},
   "outputs": [],
   "source": [
    "# Req : Appreciate the students in the list"
   ]
  },
  {
   "cell_type": "code",
   "execution_count": 6,
   "metadata": {},
   "outputs": [
    {
     "name": "stdout",
     "output_type": "stream",
     "text": [
      "keep up the good work, Vennila\n"
     ]
    }
   ],
   "source": [
    "print(f\"keep up the good work, {students[0].title()}\")"
   ]
  },
  {
   "cell_type": "code",
   "execution_count": 7,
   "metadata": {},
   "outputs": [
    {
     "name": "stdout",
     "output_type": "stream",
     "text": [
      "keep up the good work, Yusuf\n"
     ]
    }
   ],
   "source": [
    "print(f\"keep up the good work, {students[1].title()}\")"
   ]
  },
  {
   "cell_type": "code",
   "execution_count": 8,
   "metadata": {},
   "outputs": [
    {
     "name": "stdout",
     "output_type": "stream",
     "text": [
      "keep up the good work, Karthik\n"
     ]
    }
   ],
   "source": [
    "print(f\"keep up the good work, {students[2].title()}\")"
   ]
  },
  {
   "cell_type": "code",
   "execution_count": null,
   "metadata": {},
   "outputs": [],
   "source": [
    "# instead of executing [0],[1] and so on we can iterate it through for loop"
   ]
  },
  {
   "cell_type": "code",
   "execution_count": null,
   "metadata": {},
   "outputs": [],
   "source": [
    "# General Syntax of for loop is\n",
    "    for tempvar in mainvar :\n",
    "        print(tempvar)\n",
    "        \n",
    "        \n",
    "        # tempvar ==> it can be any name xyz\n",
    "        # mainvar ==> it should be the one we defined earlier (i.e: students)\n",
    "        # the gap is indentation | in python there is no braces; instead we use indentation"
   ]
  },
  {
   "cell_type": "code",
   "execution_count": 9,
   "metadata": {},
   "outputs": [
    {
     "name": "stdout",
     "output_type": "stream",
     "text": [
      "Keep up the goodwork, Vennila\n",
      "Keep up the goodwork, Yusuf\n",
      "Keep up the goodwork, Karthik\n",
      "Keep up the goodwork, John\n",
      "Keep up the goodwork, Kumar\n",
      "Keep up the goodwork, Abishek\n",
      "Keep up the goodwork, Latha\n",
      "Keep up the goodwork, Madhavi\n"
     ]
    }
   ],
   "source": [
    "for x in students:\n",
    "    print(f\"Keep up the goodwork, {x.title()}\")\n",
    "    \n",
    "    \n",
    "    # here x ===> tmpvar\n",
    "    # students ==> mainvar"
   ]
  },
  {
   "cell_type": "code",
   "execution_count": null,
   "metadata": {},
   "outputs": [],
   "source": [
    "# Enhancement of the code"
   ]
  },
  {
   "cell_type": "code",
   "execution_count": 10,
   "metadata": {},
   "outputs": [
    {
     "name": "stdout",
     "output_type": "stream",
     "text": [
      "Keep up the good work, Vennila\n",
      "will be looking forward to receive your practice files regularly, Vennila\n",
      "Keep up the good work, Yusuf\n",
      "will be looking forward to receive your practice files regularly, Yusuf\n",
      "Keep up the good work, Karthik\n",
      "will be looking forward to receive your practice files regularly, Karthik\n",
      "Keep up the good work, John\n",
      "will be looking forward to receive your practice files regularly, John\n",
      "Keep up the good work, Kumar\n",
      "will be looking forward to receive your practice files regularly, Kumar\n",
      "Keep up the good work, Abishek\n",
      "will be looking forward to receive your practice files regularly, Abishek\n",
      "Keep up the good work, Latha\n",
      "will be looking forward to receive your practice files regularly, Latha\n",
      "Keep up the good work, Madhavi\n",
      "will be looking forward to receive your practice files regularly, Madhavi\n"
     ]
    }
   ],
   "source": [
    "for a in students:\n",
    "    print(f\"Keep up the good work, {a.title()}\")\n",
    "    print(f\"will be looking forward to receive your practice files regularly, {a.title()}\")"
   ]
  },
  {
   "cell_type": "code",
   "execution_count": 13,
   "metadata": {},
   "outputs": [
    {
     "name": "stdout",
     "output_type": "stream",
     "text": [
      "Keep up the good work, Vennila\n",
      "will be looking forward to receive your practice files regularly, Vennila \n",
      "\n",
      "Keep up the good work, Yusuf\n",
      "will be looking forward to receive your practice files regularly, Yusuf \n",
      "\n",
      "Keep up the good work, Karthik\n",
      "will be looking forward to receive your practice files regularly, Karthik \n",
      "\n",
      "Keep up the good work, John\n",
      "will be looking forward to receive your practice files regularly, John \n",
      "\n",
      "Keep up the good work, Kumar\n",
      "will be looking forward to receive your practice files regularly, Kumar \n",
      "\n",
      "Keep up the good work, Abishek\n",
      "will be looking forward to receive your practice files regularly, Abishek \n",
      "\n",
      "Keep up the good work, Latha\n",
      "will be looking forward to receive your practice files regularly, Latha \n",
      "\n",
      "Keep up the good work, Madhavi\n",
      "will be looking forward to receive your practice files regularly, Madhavi \n",
      "\n"
     ]
    }
   ],
   "source": [
    "for a in students:\n",
    "    print(f\"Keep up the good work, {a.title()}\")\n",
    "    print(f\"will be looking forward to receive your practice files regularly, {a.title()} \\n\")"
   ]
  },
  {
   "cell_type": "code",
   "execution_count": null,
   "metadata": {},
   "outputs": [],
   "source": [
    "# Writing out of the loop "
   ]
  },
  {
   "cell_type": "code",
   "execution_count": 17,
   "metadata": {},
   "outputs": [
    {
     "name": "stdout",
     "output_type": "stream",
     "text": [
      "Keep up the good work, Vennila\n",
      "will be looking forward to receive your practice files regularly, Vennila \n",
      "\n",
      "Keep up the good work, Yusuf\n",
      "will be looking forward to receive your practice files regularly, Yusuf \n",
      "\n",
      "Keep up the good work, Karthik\n",
      "will be looking forward to receive your practice files regularly, Karthik \n",
      "\n",
      "Keep up the good work, John\n",
      "will be looking forward to receive your practice files regularly, John \n",
      "\n",
      "Keep up the good work, Kumar\n",
      "will be looking forward to receive your practice files regularly, Kumar \n",
      "\n",
      "Keep up the good work, Abishek\n",
      "will be looking forward to receive your practice files regularly, Abishek \n",
      "\n",
      "Keep up the good work, Latha\n",
      "will be looking forward to receive your practice files regularly, Latha \n",
      "\n",
      "Keep up the good work, Madhavi\n",
      "will be looking forward to receive your practice files regularly, Madhavi \n",
      "\n",
      "\n",
      " \n",
      " \t For Loop Executed Succefully\n"
     ]
    }
   ],
   "source": [
    "for a in students:\n",
    "    print(f\"Keep up the good work, {a.title()}\")\n",
    "    print(f\"will be looking forward to receive your practice files regularly, {a.title()} \\n\")\n",
    "print(\"\\n \\n \\t for loop executed Succefully\".title())"
   ]
  },
  {
   "cell_type": "code",
   "execution_count": null,
   "metadata": {},
   "outputs": [],
   "source": [
    "# As expected the last line is executed out of loop (i.e: one time at the last)"
   ]
  }
 ],
 "metadata": {
  "kernelspec": {
   "display_name": "Python 3",
   "language": "python",
   "name": "python3"
  },
  "language_info": {
   "codemirror_mode": {
    "name": "ipython",
    "version": 3
   },
   "file_extension": ".py",
   "mimetype": "text/x-python",
   "name": "python",
   "nbconvert_exporter": "python",
   "pygments_lexer": "ipython3",
   "version": "3.8.5"
  }
 },
 "nbformat": 4,
 "nbformat_minor": 4
}
