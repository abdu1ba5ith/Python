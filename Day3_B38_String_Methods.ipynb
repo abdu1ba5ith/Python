{
 "cells": [
  {
   "cell_type": "code",
   "execution_count": null,
   "metadata": {},
   "outputs": [],
   "source": [
    "#String Methods"
   ]
  },
  {
   "cell_type": "code",
   "execution_count": 17,
   "metadata": {},
   "outputs": [],
   "source": [
    "fullname=\"alpha bravo charlie\";"
   ]
  },
  {
   "cell_type": "code",
   "execution_count": 18,
   "metadata": {},
   "outputs": [
    {
     "name": "stdout",
     "output_type": "stream",
     "text": [
      "alpha bravo charlie\n"
     ]
    }
   ],
   "source": [
    "print(fullname)"
   ]
  },
  {
   "cell_type": "code",
   "execution_count": 19,
   "metadata": {},
   "outputs": [
    {
     "name": "stdout",
     "output_type": "stream",
     "text": [
      "Alpha Bravo Charlie\n"
     ]
    }
   ],
   "source": [
    "print(fullname.title()) # .title() will capitalise each word"
   ]
  },
  {
   "cell_type": "code",
   "execution_count": 22,
   "metadata": {},
   "outputs": [
    {
     "name": "stdout",
     "output_type": "stream",
     "text": [
      "ALPHA BRAVO CHARLIE\n"
     ]
    }
   ],
   "source": [
    "print(fullname.upper())  #.upper() will turn all characters to upper case"
   ]
  },
  {
   "cell_type": "code",
   "execution_count": 23,
   "metadata": {},
   "outputs": [
    {
     "name": "stdout",
     "output_type": "stream",
     "text": [
      "alpha bravo charlie\n"
     ]
    }
   ],
   "source": [
    "print(fullname.lower()) #.lower() will turn all characters to lower cases"
   ]
  },
  {
   "cell_type": "code",
   "execution_count": null,
   "metadata": {},
   "outputs": [],
   "source": [
    "# f - strings"
   ]
  },
  {
   "cell_type": "code",
   "execution_count": null,
   "metadata": {},
   "outputs": [],
   "source": [
    "    # General Syntax : f\"custom words {placeholder1} {placeholder2}.......{placeholder3} --> place holder is a reference point\n",
    "        # of the variable we have created"
   ]
  },
  {
   "cell_type": "code",
   "execution_count": 50,
   "metadata": {},
   "outputs": [
    {
     "name": "stdout",
     "output_type": "stream",
     "text": [
      "delta echo\n"
     ]
    }
   ],
   "source": [
    "first_name = 'delta'; \n",
    "last_name = 'echo';\n",
    "\n",
    "zee = f\"{first_name} {last_name}\";\n",
    "print(zee); "
   ]
  },
  {
   "cell_type": "code",
   "execution_count": 53,
   "metadata": {},
   "outputs": [
    {
     "name": "stdout",
     "output_type": "stream",
     "text": [
      "Congrats! on your acheivement  delta echo\n"
     ]
    }
   ],
   "source": [
    "bee = f\"Congrats! on your acheivement  {first_name} {last_name}\";\n",
    "print(bee)"
   ]
  },
  {
   "cell_type": "code",
   "execution_count": 54,
   "metadata": {},
   "outputs": [
    {
     "name": "stdout",
     "output_type": "stream",
     "text": [
      "Congrats! On Your Acheivement  Delta Echo\n"
     ]
    }
   ],
   "source": [
    "print (bee.title())"
   ]
  },
  {
   "cell_type": "code",
   "execution_count": null,
   "metadata": {},
   "outputs": [],
   "source": [
    "# white spaces in Strings \n",
    "    # \\n ==> new line Delimeter\n",
    "    # \\t ==> tab space Delimeter"
   ]
  },
  {
   "cell_type": "code",
   "execution_count": 58,
   "metadata": {},
   "outputs": [
    {
     "name": "stdout",
     "output_type": "stream",
     "text": [
      "Dear Delta Echo ! \n",
      " \t Congrats! on your acheivement  delta echo\n"
     ]
    }
   ],
   "source": [
    "print(f\"Dear {zee.title()} ! \\n \\t {bee}\")"
   ]
  },
  {
   "cell_type": "code",
   "execution_count": null,
   "metadata": {},
   "outputs": [],
   "source": []
  }
 ],
 "metadata": {
  "kernelspec": {
   "display_name": "Python 3",
   "language": "python",
   "name": "python3"
  },
  "language_info": {
   "codemirror_mode": {
    "name": "ipython",
    "version": 3
   },
   "file_extension": ".py",
   "mimetype": "text/x-python",
   "name": "python",
   "nbconvert_exporter": "python",
   "pygments_lexer": "ipython3",
   "version": "3.8.5"
  }
 },
 "nbformat": 4,
 "nbformat_minor": 4
}
