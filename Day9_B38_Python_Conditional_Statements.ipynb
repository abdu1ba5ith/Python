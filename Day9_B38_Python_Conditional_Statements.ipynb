{
 "cells": [
  {
   "cell_type": "code",
   "execution_count": null,
   "metadata": {},
   "outputs": [],
   "source": [
    "# Introduction to Conditional Statements"
   ]
  },
  {
   "cell_type": "code",
   "execution_count": 1,
   "metadata": {},
   "outputs": [],
   "source": [
    "cars=['audi','bmw','benz','toyota','subaru','kia']"
   ]
  },
  {
   "cell_type": "code",
   "execution_count": 2,
   "metadata": {},
   "outputs": [
    {
     "name": "stdout",
     "output_type": "stream",
     "text": [
      "['audi', 'bmw', 'benz', 'toyota', 'subaru', 'kia']\n"
     ]
    }
   ],
   "source": [
    "print(cars)"
   ]
  },
  {
   "cell_type": "code",
   "execution_count": 3,
   "metadata": {},
   "outputs": [
    {
     "data": {
      "text/plain": [
       "list"
      ]
     },
     "execution_count": 3,
     "metadata": {},
     "output_type": "execute_result"
    }
   ],
   "source": [
    "type(cars)"
   ]
  },
  {
   "cell_type": "code",
   "execution_count": null,
   "metadata": {},
   "outputs": [],
   "source": [
    "# Req: print all cars using loop & bmw should be in uppercase"
   ]
  },
  {
   "cell_type": "code",
   "execution_count": 6,
   "metadata": {},
   "outputs": [
    {
     "name": "stdout",
     "output_type": "stream",
     "text": [
      "audi\n",
      "BMW\n",
      "benz\n",
      "toyota\n",
      "subaru\n",
      "kia\n"
     ]
    }
   ],
   "source": [
    "for x in cars:\n",
    "    if x=='bmw':\n",
    "        print(x.upper())\n",
    "    else:\n",
    "        print(x.lower())"
   ]
  },
  {
   "cell_type": "code",
   "execution_count": null,
   "metadata": {},
   "outputs": [],
   "source": [
    "# General Syntax\n",
    "    if conditional_test:\n",
    "        do something\n",
    "    else:\n",
    "        do some other thing"
   ]
  },
  {
   "cell_type": "code",
   "execution_count": null,
   "metadata": {},
   "outputs": [],
   "source": [
    "# ex.program ==> Voting Rights"
   ]
  },
  {
   "cell_type": "code",
   "execution_count": 9,
   "metadata": {},
   "outputs": [
    {
     "name": "stdout",
     "output_type": "stream",
     "text": [
      "you are eligible to vote\n"
     ]
    }
   ],
   "source": [
    "    age=19\n",
    "    if age >= 18:\n",
    "        print(\"you are eligible to vote\")\n",
    "    else:\n",
    "        print(\"you are too young to vote \\n Try next year!\")\n",
    "        \n"
   ]
  },
  {
   "cell_type": "code",
   "execution_count": 10,
   "metadata": {},
   "outputs": [
    {
     "name": "stdout",
     "output_type": "stream",
     "text": [
      "you are too young to vote \n",
      " Try next year!\n"
     ]
    }
   ],
   "source": [
    "    age=15\n",
    "    if age >= 18:\n",
    "        print(\"you are eligible to vote\")\n",
    "    else:\n",
    "        print(\"you are too young to vote \\n Try next year!\")\n",
    "      "
   ]
  },
  {
   "cell_type": "code",
   "execution_count": 11,
   "metadata": {},
   "outputs": [],
   "source": [
    "# Multiple if - else statements\n",
    "# if more than 2 conditions to validate we need to use elif \n",
    "    # Example Scenario:- Park Entry Ticket\n",
    "    Children below 4 years = free\n",
    "    Age between 4 to 15 = 10 Inr\n",
    "    Above 15 years = 20 inr\n"
   ]
  },
  {
   "cell_type": "code",
   "execution_count": 13,
   "metadata": {},
   "outputs": [
    {
     "name": "stdout",
     "output_type": "stream",
     "text": [
      "Your ticket is 10 INR\n"
     ]
    }
   ],
   "source": [
    "age=4;\n",
    "if age < 4:\n",
    "    print(\"your ticket is free\")\n",
    "elif age < 15:\n",
    "        print(\"Your ticket is 10 INR\")\n",
    "else:\n",
    "    print(\"your ticket is 20 INR\")\n",
    "        "
   ]
  },
  {
   "cell_type": "code",
   "execution_count": null,
   "metadata": {},
   "outputs": [],
   "source": [
    "# Introdction to USER ACCEPTED INPUT"
   ]
  },
  {
   "cell_type": "code",
   "execution_count": 15,
   "metadata": {},
   "outputs": [
    {
     "name": "stdout",
     "output_type": "stream",
     "text": [
      "Tell me something and i will repeat back for you \thello all \n",
      "hello all \n"
     ]
    }
   ],
   "source": [
    "message = input(\"Tell me something and i will repeat back for you \\t\")\n",
    "print(message)"
   ]
  },
  {
   "cell_type": "code",
   "execution_count": 17,
   "metadata": {},
   "outputs": [
    {
     "name": "stdout",
     "output_type": "stream",
     "text": [
      "please enter your name: \tAlpha\n",
      "\n",
      " hello, Alpha\n"
     ]
    }
   ],
   "source": [
    "name = input(\"please enter your name: \\t\")\n",
    "print(f\"\\n hello, {name}\")"
   ]
  },
  {
   "cell_type": "code",
   "execution_count": null,
   "metadata": {},
   "outputs": [],
   "source": [
    "# Enhancement of the code:"
   ]
  },
  {
   "cell_type": "code",
   "execution_count": 18,
   "metadata": {},
   "outputs": [
    {
     "name": "stdout",
     "output_type": "stream",
     "text": [
      "if you tell us who you are , we can personalise the for you\n",
      " what is your first name?bravo\n",
      "\n",
      " hello, Bravo\n"
     ]
    }
   ],
   "source": [
    "prompt = \"if you tell us who you are , we can personalise the for you\"\n",
    "prompt += \"\\n what is your first name?\"\n",
    "\n",
    "name = input(prompt)\n",
    "\n",
    "print(f\"\\n hello, {name.title()}\")"
   ]
  },
  {
   "cell_type": "code",
   "execution_count": null,
   "metadata": {},
   "outputs": [],
   "source": []
  }
 ],
 "metadata": {
  "kernelspec": {
   "display_name": "Python 3",
   "language": "python",
   "name": "python3"
  },
  "language_info": {
   "codemirror_mode": {
    "name": "ipython",
    "version": 3
   },
   "file_extension": ".py",
   "mimetype": "text/x-python",
   "name": "python",
   "nbconvert_exporter": "python",
   "pygments_lexer": "ipython3",
   "version": "3.8.5"
  }
 },
 "nbformat": 4,
 "nbformat_minor": 4
}
