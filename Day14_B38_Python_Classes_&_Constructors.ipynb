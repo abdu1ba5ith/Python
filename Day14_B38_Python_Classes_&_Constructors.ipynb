{
 "cells": [
  {
   "cell_type": "code",
   "execution_count": null,
   "metadata": {},
   "outputs": [],
   "source": [
    "# Classes"
   ]
  },
  {
   "cell_type": "code",
   "execution_count": null,
   "metadata": {},
   "outputs": [],
   "source": [
    "class --> high level blue print of the program\n",
    "how to define class --> using the keyword class --> and we have to use title case eg. class Bravo\n",
    "\n",
    "method --> a function written inside the class is termed as method\n",
    "\n",
    "attribute --> a variable written inside the class is attribute\n",
    "\n",
    "self --> self is a tem placeholder for an object\n",
    "\n",
    "object / instance --> it is an access or entry point to the class methods\n"
   ]
  },
  {
   "cell_type": "code",
   "execution_count": null,
   "metadata": {},
   "outputs": [],
   "source": [
    "# Req : Create a Greet class with following methods\n",
    "\n",
    "#  1. create_user --> it needs to accept the input from user\n",
    "#  2. display_user --> it needs to display the username\n",
    "#  3. greet_user --> it needs to greet the user\n"
   ]
  },
  {
   "cell_type": "code",
   "execution_count": 1,
   "metadata": {},
   "outputs": [],
   "source": [
    "class Greet:\n",
    "    \"\"\" Creating a greet class to descirbe the user and greeting\"\"\"\n",
    "    def create_user(self,username):\n",
    "        self.username=username\n",
    "    \n",
    "    def display_user(self):\n",
    "        print(self.username)\n",
    "        \n",
    "    def greet_user(self):\n",
    "        print(f\"Hello,  {self.username}\")\n",
    "        "
   ]
  },
  {
   "cell_type": "code",
   "execution_count": 2,
   "metadata": {},
   "outputs": [],
   "source": [
    "test=Greet() # Obj. assignment to class"
   ]
  },
  {
   "cell_type": "code",
   "execution_count": 3,
   "metadata": {},
   "outputs": [],
   "source": [
    "test.create_user('alpha') #Accepting the user input"
   ]
  },
  {
   "cell_type": "code",
   "execution_count": 4,
   "metadata": {},
   "outputs": [
    {
     "name": "stdout",
     "output_type": "stream",
     "text": [
      "alpha\n"
     ]
    }
   ],
   "source": [
    "test.display_user() # Displaying the username"
   ]
  },
  {
   "cell_type": "code",
   "execution_count": 5,
   "metadata": {},
   "outputs": [
    {
     "name": "stdout",
     "output_type": "stream",
     "text": [
      "Hello,  alpha\n"
     ]
    }
   ],
   "source": [
    "test.greet_user()"
   ]
  },
  {
   "cell_type": "code",
   "execution_count": null,
   "metadata": {},
   "outputs": [],
   "source": [
    "this is called object Oriented programming ..!"
   ]
  },
  {
   "cell_type": "code",
   "execution_count": null,
   "metadata": {},
   "outputs": [],
   "source": [
    "# as we can assign any object to the class, let's see another example"
   ]
  },
  {
   "cell_type": "code",
   "execution_count": 6,
   "metadata": {},
   "outputs": [],
   "source": [
    "xobj=Greet() # Object assigned to the class "
   ]
  },
  {
   "cell_type": "code",
   "execution_count": 7,
   "metadata": {},
   "outputs": [],
   "source": [
    "xobj.create_user('bravo')"
   ]
  },
  {
   "cell_type": "code",
   "execution_count": 8,
   "metadata": {},
   "outputs": [
    {
     "name": "stdout",
     "output_type": "stream",
     "text": [
      "bravo\n"
     ]
    }
   ],
   "source": [
    "xobj.display_user()"
   ]
  },
  {
   "cell_type": "code",
   "execution_count": 9,
   "metadata": {},
   "outputs": [
    {
     "name": "stdout",
     "output_type": "stream",
     "text": [
      "Hello,  bravo\n"
     ]
    }
   ],
   "source": [
    "xobj.greet_user()"
   ]
  },
  {
   "cell_type": "code",
   "execution_count": null,
   "metadata": {},
   "outputs": [],
   "source": [
    "#                               CONSTRUCTORS\n",
    "#  Constructors is also called as  special method / magical method\n",
    "#  Constructors is used for initialising the attribute and methods automatically\n",
    "\n",
    "\n",
    "# TO DEFINE a CONSTRUCTOR\n",
    "\n",
    "        def __init__()\n",
    "    \n",
    "    "
   ]
  },
  {
   "cell_type": "code",
   "execution_count": null,
   "metadata": {},
   "outputs": [],
   "source": [
    "# Req: Create a dog class which contains the below methods\n",
    "    # 1. sit\n",
    "    # 2. jump\n",
    "    # 3. roll_over\n",
    "    # 4. sleep\n",
    "    # 5. details\n",
    "    "
   ]
  },
  {
   "cell_type": "code",
   "execution_count": 10,
   "metadata": {},
   "outputs": [],
   "source": [
    "class Dog:\n",
    "    \"\"\" Creating a dog class with the mentioned methods\"\"\"\n",
    "    def __init__(self,name,age):\n",
    "        self.name=name\n",
    "        self.age = age\n",
    "        \n",
    "    def sit(self):\n",
    "        print(f\" {self.name} is now sitting on the command\")\n",
    "        \n",
    "    def jump(self):\n",
    "        print(f\" {self.name} is now jumping on the command\")\n",
    "        \n",
    "    def roll_over(self):\n",
    "        print(f\" {self.name} is now rolling over on the command\")\n",
    "        \n",
    "    def sleep(self):\n",
    "        print(f\" {self.name} is now sleeping on the command\")\n",
    "        \n",
    "    def details(self):\n",
    "        print(f\"i have a dog named {self.name} \\n {self.name} is {self.age} years old\")\n",
    "        "
   ]
  },
  {
   "cell_type": "code",
   "execution_count": 11,
   "metadata": {},
   "outputs": [],
   "source": [
    "test = Dog('bella',3) # we can declare args, while assigning an obj to class directly\n",
    "\n",
    "                        # ** It is the best practice"
   ]
  },
  {
   "cell_type": "code",
   "execution_count": 12,
   "metadata": {},
   "outputs": [
    {
     "name": "stdout",
     "output_type": "stream",
     "text": [
      " bella is now sitting on the command\n"
     ]
    }
   ],
   "source": [
    "test.sit()"
   ]
  },
  {
   "cell_type": "code",
   "execution_count": 13,
   "metadata": {},
   "outputs": [
    {
     "name": "stdout",
     "output_type": "stream",
     "text": [
      " bella is now jumping on the command\n"
     ]
    }
   ],
   "source": [
    "test.jump()"
   ]
  },
  {
   "cell_type": "code",
   "execution_count": 14,
   "metadata": {},
   "outputs": [
    {
     "name": "stdout",
     "output_type": "stream",
     "text": [
      "i have a dog named bella \n",
      " bella is 3 years old\n"
     ]
    }
   ],
   "source": [
    "test.details()"
   ]
  },
  {
   "cell_type": "code",
   "execution_count": null,
   "metadata": {},
   "outputs": [],
   "source": []
  }
 ],
 "metadata": {
  "kernelspec": {
   "display_name": "Python 3",
   "language": "python",
   "name": "python3"
  },
  "language_info": {
   "codemirror_mode": {
    "name": "ipython",
    "version": 3
   },
   "file_extension": ".py",
   "mimetype": "text/x-python",
   "name": "python",
   "nbconvert_exporter": "python",
   "pygments_lexer": "ipython3",
   "version": "3.8.5"
  }
 },
 "nbformat": 4,
 "nbformat_minor": 4
}
