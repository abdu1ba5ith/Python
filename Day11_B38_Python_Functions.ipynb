{
 "cells": [
  {
   "cell_type": "code",
   "execution_count": null,
   "metadata": {},
   "outputs": [],
   "source": [
    "/* Funtions in Python\n",
    "\n",
    "     def is a keyword used for defining the function, we have to use lowercase lettters for naming the function\n",
    "        Code Re-Usability.\n",
    "    \n",
    "*/"
   ]
  },
  {
   "cell_type": "code",
   "execution_count": null,
   "metadata": {},
   "outputs": [],
   "source": [
    "# Create a Greet Function"
   ]
  },
  {
   "cell_type": "code",
   "execution_count": 4,
   "metadata": {},
   "outputs": [],
   "source": [
    "def greet():\n",
    "    \"\"\" Creating A Greet Function\"\"\" \n",
    "    print(\"hello\")\n",
    "    \n",
    "    '''\n",
    "     Doc String : Anything within \"\"\" 3-Quotes : single /double \"\"\" inside a function is called doc string. \n",
    "        used in commenting multiple lines \n",
    "        oft. used inside the function to let other coders to understand what we did with the code.\n",
    "        \n",
    "        '''"
   ]
  },
  {
   "cell_type": "code",
   "execution_count": 5,
   "metadata": {},
   "outputs": [
    {
     "name": "stdout",
     "output_type": "stream",
     "text": [
      "hello\n"
     ]
    }
   ],
   "source": [
    "greet()"
   ]
  },
  {
   "cell_type": "code",
   "execution_count": null,
   "metadata": {},
   "outputs": [],
   "source": [
    "# Req:2 Create a function for greeting a user"
   ]
  },
  {
   "cell_type": "code",
   "execution_count": 12,
   "metadata": {},
   "outputs": [],
   "source": [
    "def greetuser(username): # Passing parameter aka params\n",
    "    \"\"\"Creating a function to greet user\"\"\"\n",
    "    print(f\"Hello, \\n \\t {username.title()}\")"
   ]
  },
  {
   "cell_type": "code",
   "execution_count": 13,
   "metadata": {},
   "outputs": [
    {
     "name": "stdout",
     "output_type": "stream",
     "text": [
      "Hello, \n",
      " \t Alpha\n"
     ]
    }
   ],
   "source": [
    "greetuser('alpha') # Passing Arguments aka args"
   ]
  },
  {
   "cell_type": "code",
   "execution_count": null,
   "metadata": {},
   "outputs": [],
   "source": [
    "# When we assisgn a variable to a function name it is called parameter\n",
    "# When we assign a value to the variable while calling the function; the value is called arguments"
   ]
  },
  {
   "cell_type": "code",
   "execution_count": 15,
   "metadata": {},
   "outputs": [
    {
     "name": "stdout",
     "output_type": "stream",
     "text": [
      "Hello, \n",
      " \t Bravo\n"
     ]
    }
   ],
   "source": [
    "greetuser('bravo')"
   ]
  },
  {
   "cell_type": "code",
   "execution_count": null,
   "metadata": {},
   "outputs": [],
   "source": [
    "\"\"\"  \n",
    "    Types of Arguments\n",
    "    1.Positional Arguments\n",
    "    2.Keyword Arguments\n",
    "    3.Default Arguements\n",
    "    4.Arbitary Arguments\n",
    "    5.Return Values\n",
    "\"\"\"\n",
    "\n"
   ]
  },
  {
   "cell_type": "code",
   "execution_count": null,
   "metadata": {},
   "outputs": [],
   "source": [
    "Positional Arguments:\n",
    "    Creat a function called describe_pet which takes two params called \n",
    "    1. animal_type 2.pet_name"
   ]
  },
  {
   "cell_type": "code",
   "execution_count": 27,
   "metadata": {},
   "outputs": [],
   "source": [
    "def describe_pet(animal_type,pet_name):\n",
    "    '''Creating a function to describe pet'''\n",
    "    print(f\" I have a {animal_type.upper()} \\n\")\n",
    "    print(f\"My {animal_type.title()}'s name is {pet_name.title()}\")"
   ]
  },
  {
   "cell_type": "code",
   "execution_count": 28,
   "metadata": {},
   "outputs": [
    {
     "name": "stdout",
     "output_type": "stream",
     "text": [
      " I have a CAT \n",
      "\n",
      "My Cat's name is Kitty\n"
     ]
    }
   ],
   "source": [
    "describe_pet('cat','kitty') # Positional Arguments"
   ]
  },
  {
   "cell_type": "code",
   "execution_count": 29,
   "metadata": {},
   "outputs": [
    {
     "name": "stdout",
     "output_type": "stream",
     "text": [
      " I have a HORSE \n",
      "\n",
      "My Horse's name is Unicorn\n"
     ]
    }
   ],
   "source": [
    "describe_pet('horse','unicorn')"
   ]
  },
  {
   "cell_type": "code",
   "execution_count": 30,
   "metadata": {},
   "outputs": [
    {
     "name": "stdout",
     "output_type": "stream",
     "text": [
      " I have a SNOWBIRD \n",
      "\n",
      "My Snowbird's name is Dove\n"
     ]
    }
   ],
   "source": [
    "describe_pet('snowbird','dove') # As the position of the output changes.. it will impact in output"
   ]
  },
  {
   "cell_type": "code",
   "execution_count": null,
   "metadata": {},
   "outputs": [],
   "source": []
  }
 ],
 "metadata": {
  "kernelspec": {
   "display_name": "Python 3",
   "language": "python",
   "name": "python3"
  },
  "language_info": {
   "codemirror_mode": {
    "name": "ipython",
    "version": 3
   },
   "file_extension": ".py",
   "mimetype": "text/x-python",
   "name": "python",
   "nbconvert_exporter": "python",
   "pygments_lexer": "ipython3",
   "version": "3.8.5"
  }
 },
 "nbformat": 4,
 "nbformat_minor": 4
}
